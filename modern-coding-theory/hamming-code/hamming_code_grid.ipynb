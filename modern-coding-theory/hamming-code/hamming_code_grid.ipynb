{
 "cells": [
  {
   "cell_type": "code",
   "execution_count": 14,
   "metadata": {},
   "outputs": [],
   "source": [
    "# grid printing\n",
    "from math import sqrt,ceil\n",
    "def print_grid(s):\n",
    "    grid_size = ceil(sqrt(len(s))) # a square size\n",
    "    # print(grid_size)\n",
    "    num_rows = 4 #grid_size\n",
    "    num_cols = 4 #grid_size\n",
    "\n",
    "    for row in range(num_rows):\n",
    "        for col in range(num_cols-1):\n",
    "            print(\"+---\",end=\"\")\n",
    "\n",
    "        print(\"+---+\")\n",
    "\n",
    "        for col in range(num_cols):\n",
    "            i = row*num_cols+col            \n",
    "            c = s[i]  if i<len(s)  else \" \"\n",
    "\n",
    "            print(f\"+ {c} \",end=\"\")\n",
    "\n",
    "        print(\"+\")\n",
    "\n",
    "    for col in range(num_cols-1):\n",
    "        print(\"+---\",end=\"\")\n",
    "\n",
    "    print(\"+---+\")"
   ]
  },
  {
   "cell_type": "code",
   "execution_count": 15,
   "metadata": {},
   "outputs": [
    {
     "name": "stdout",
     "output_type": "stream",
     "text": [
      "+---+---+---+---+\n",
      "+ 1 + 0 + 0 + 0 +\n",
      "+---+---+---+---+\n",
      "+ 0 + 1 + 1 + 1 +\n",
      "+---+---+---+---+\n",
      "+ 0 + 0 + 1 + 0 +\n",
      "+---+---+---+---+\n",
      "+ 0 + 0 + 1 + 0 +\n",
      "+---+---+---+---+\n"
     ]
    }
   ],
   "source": [
    "# hamming code\n",
    "p1 = 0\n",
    "p2 = 0\n",
    "p4 = 0 \n",
    "p8 = 0\n",
    "c = str(input())\n",
    "p1 = p1 + int(c[2-1]) + int(c[5-1]) + int(c[9-1]) + int(c[1-1]) + int(c[4-1]) + int(c[7-1]) + int(c[11-1])\n",
    "p2 = p2 + int(c[3-1]) + int(c[6-1]) + int(c[10-1]) + int(c[1-1]) + int(c[4-1]) + int(c[7-1]) + int(c[11-1])\n",
    "\n",
    "p4 = p4 + int(c[2-1]) + int(c[3-1]) + int(c[4-1]) + int(c[8-1]) + int(c[9-1]) + int(c[10-1]) + int(c[11-1])\n",
    "p8 = p8 + int(c[5-1]) + int(c[6-1]) + int(c[7-1]) + int(c[8-1]) + int(c[9-1]) + int(c[10-1]) + int(c[11-1])\n",
    "\n",
    "sum = 0\n",
    "for i in range(11):\n",
    "    sum = sum + int(c[i])\n",
    "\n",
    "p1 = p1%2\n",
    "p2 = p2%2\n",
    "p4 = p4%2\n",
    "p8 = p8%2\n",
    "\n",
    "p0 = (sum + p1 + p2 + p4 + p8)%2\n",
    "\n",
    "hamming = str(p0) + str(p1)+str(p2) + c[0] + str(p4)+ c[1] + c[2] + c[3]+str(p8)  + c[4] + c[5] + c[6] + c[7] + c[8] + c[9] + c[10]\n",
    "\n",
    "print_grid(hamming)"
   ]
  }
 ],
 "metadata": {
  "kernelspec": {
   "display_name": "Python 3.10.0 64-bit",
   "language": "python",
   "name": "python3"
  },
  "language_info": {
   "codemirror_mode": {
    "name": "ipython",
    "version": 3
   },
   "file_extension": ".py",
   "mimetype": "text/x-python",
   "name": "python",
   "nbconvert_exporter": "python",
   "pygments_lexer": "ipython3",
   "version": "3.10.0"
  },
  "orig_nbformat": 4,
  "vscode": {
   "interpreter": {
    "hash": "9d590473b75da9d8ca94e1f98873de7dba2c29fa2e2da62f0ce7a2ba626423f5"
   }
  }
 },
 "nbformat": 4,
 "nbformat_minor": 2
}
